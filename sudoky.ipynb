{
 "cells": [
  {
   "cell_type": "code",
   "execution_count": 16,
   "metadata": {},
   "outputs": [],
   "source": [
    "grid = [[5, 3, 0, 0, 7, 0, 0, 0, 0],\n",
    "        [6, 0, 0, 1, 9, 5, 0, 0, 0],\n",
    "        [0, 9, 8, 0, 0, 0, 0, 6, 0],\n",
    "        [8, 0, 0, 0, 6, 0, 0, 0, 3],\n",
    "        [4, 0, 0, 8, 0, 3, 0, 0, 1],\n",
    "        [7, 0, 0, 0, 2, 0, 0, 0, 6],\n",
    "        [0, 6, 0, 0, 0, 0, 2, 8, 0],\n",
    "        [0, 0, 0, 4, 1, 9, 0, 0, 5],\n",
    "        [0, 0, 0, 0, 8, 0, 0, 7, 9]\n",
    "       ]"
   ]
  },
  {
   "cell_type": "code",
   "execution_count": 88,
   "metadata": {},
   "outputs": [
    {
     "name": "stdout",
     "output_type": "stream",
     "text": [
      "[[5 3 0 0 7 0 0 0 0]\n",
      " [6 0 0 1 9 5 0 0 0]\n",
      " [0 9 8 0 0 0 0 6 0]\n",
      " [8 0 0 0 6 0 0 0 3]\n",
      " [4 0 0 8 0 3 0 0 1]\n",
      " [7 0 0 0 2 0 0 0 6]\n",
      " [0 6 0 0 0 0 2 8 0]\n",
      " [0 0 0 4 1 9 0 0 5]\n",
      " [0 0 0 0 8 0 0 7 9]]\n"
     ]
    }
   ],
   "source": [
    "import numpy as np\n",
    "print (np.matrix(grid))\n",
    "\n",
    "def is_possible(x, y, n):\n",
    "    result = True\n",
    "    line = grid[y]\n",
    "    print('line - ', line)\n",
    "    if n in line: \n",
    "        result = False\n",
    "\n",
    "    column = [c[x] for c in grid]\n",
    "    print('column - ', column)\n",
    "    if n in column: \n",
    "        result = False\n",
    "    \n",
    "    bloc_size = 3\n",
    "    bl_x = x//bloc_size\n",
    "    bl_y = y//bloc_size\n",
    "\n",
    "    print(bl_x, ' - ', bl_y)\n",
    "    \n",
    "    print(bl_x * 3, ' - ', bl_x * 3 + 3) \n",
    "    \n",
    "    for z in grid[bl_x * 3: bl_x * 3 + 3 ]:\n",
    "        print(z[bl_y * 3: bl_y * 3 + 3])\n",
    "    \n",
    "    return result"
   ]
  },
  {
   "cell_type": "code",
   "execution_count": 89,
   "metadata": {},
   "outputs": [
    {
     "name": "stdout",
     "output_type": "stream",
     "text": [
      "line -  [0, 6, 0, 0, 0, 0, 2, 8, 0]\n",
      "column -  [0, 0, 0, 0, 0, 0, 2, 0, 0]\n",
      "2  -  2\n",
      "6  -  9\n",
      "[2, 8, 0]\n",
      "[0, 0, 5]\n",
      "[0, 7, 9]\n",
      "True\n"
     ]
    }
   ],
   "source": [
    "p = is_possible(6, 6, 5)\n",
    "print(p)"
   ]
  }
 ],
 "metadata": {
  "kernelspec": {
   "display_name": "Python 3",
   "language": "python",
   "name": "python3"
  },
  "language_info": {
   "codemirror_mode": {
    "name": "ipython",
    "version": 3
   },
   "file_extension": ".py",
   "mimetype": "text/x-python",
   "name": "python",
   "nbconvert_exporter": "python",
   "pygments_lexer": "ipython3",
   "version": "3.6.9"
  }
 },
 "nbformat": 4,
 "nbformat_minor": 4
}
